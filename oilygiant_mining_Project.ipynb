{
 "cells": [
  {
   "cell_type": "markdown",
   "metadata": {},
   "source": [
    "# Sprint 9 Project - Machine Learning in Business"
   ]
  },
  {
   "cell_type": "markdown",
   "metadata": {},
   "source": [
    "## Project Overview"
   ]
  },
  {
   "cell_type": "markdown",
   "metadata": {},
   "source": [
    "**Project Objective -** I work for the OilyGiant mining company, and my task is to find the best place for a new well. \n",
    "\n",
    "**To choose a new location I will -**\n",
    "\n",
    "- Collect the oil well parameters for each of the selected region: oil quality and volume of reserves\n",
    "- Build a model for predicting the volume of reserves in the new wells\n",
    "- Pick the oil wells with the highest estimated values\n",
    "- Pick the region with the highest total profit for the selected oil wells\n",
    "- Build a model that will help to pick the region with the highest profit margin\n",
    "   - Analyze potential profit and risks using the Bootstrapping technique"
   ]
  },
  {
   "cell_type": "markdown",
   "metadata": {},
   "source": [
    "## Project Conditions\n",
    "\n",
    "**Before begining the project, there are a few assumptions, parameters, and guiding criteria/conditons that I must note before continuing with this analysis. I will adhere to these items as I work through this task -**\n",
    "\n",
    "- Only a linear regression is suitable for model training (the rest are not sufficiently predictable)\n",
    "- When exploring the region, a study of 500 points is carried with picking the best 200 points for the profit calculation\n",
    "- The budget for development of 200 oil wells is 100 USD million\n",
    "- One barrel of raw materials brings 4.5 USD of revenue The revenue from one unit of product is 4,500 dollars (volume of reserves is in thousand barrels)\n",
    "- After the risk evaluation, keep only the regions with the risk of losses lower than 2.5%. \n",
    "  - From the ones that fit - the criteria, the region with the highest average profit should be selected.\n",
    "  \n",
    "I will note some of these points again as I work through the project, but these all come from the project prompt."
   ]
  },
  {
   "cell_type": "markdown",
   "metadata": {},
   "source": [
    "##  Import Libraries"
   ]
  },
  {
   "cell_type": "code",
   "execution_count": 3,
   "metadata": {},
   "outputs": [],
   "source": [
    "# Import libraries required for the project\n",
    "import pandas as pd\n",
    "import numpy as np\n",
    "import matplotlib.pyplot as plt\n",
    "\n",
    "# From sklearn get linear regression model, model evaluation packages, and training data split\n",
    "from sklearn.linear_model import LinearRegression\n",
    "\n",
    "# Split dataset for training\n",
    "from sklearn.model_selection import train_test_split\n",
    "\n",
    "# For calculating mean square error \n",
    "from sklearn.metrics import mean_squared_error\n",
    "\n",
    "# For creating a histogram in the profit distribution section\n",
    "from matplotlib import pyplot as plt\n",
    "\n",
    "# Show all columns when displaying dataframe\n",
    "pd.set_option('display.max_columns', None)"
   ]
  },
  {
   "cell_type": "markdown",
   "metadata": {},
   "source": [
    "Cell below is used to align the tables in the markdown to the left"
   ]
  },
  {
   "cell_type": "code",
   "execution_count": 6,
   "metadata": {},
   "outputs": [
    {
     "data": {
      "text/html": [
       "<style>\n",
       "table {float:left}\n",
       "</style>\n"
      ],
      "text/plain": [
       "<IPython.core.display.HTML object>"
      ]
     },
     "metadata": {},
     "output_type": "display_data"
    }
   ],
   "source": [
    "%%html\n",
    "<style>\n",
    "table {float:left}\n",
    "</style>"
   ]
  },
  {
   "cell_type": "markdown",
   "metadata": {},
   "source": [
    "## Read in Data"
   ]
  },
  {
   "cell_type": "code",
   "execution_count": 24,
   "metadata": {},
   "outputs": [],
   "source": [
    "# Read in CSVs containing oil samples from three regions\n",
    "region_A = pd.read_csv('/Users/Engcharm/Downloads/oilygiant mining/geo_data_0.csv')\n",
    "region_B = pd.read_csv('/Users/Engcharm/Downloads/oilygiant mining/geo_data_1.csv')\n",
    "region_C = pd.read_csv('/Users/Engcharm/Downloads/oilygiant mining/geo_data_2.csv')"
   ]
  },
  {
   "cell_type": "markdown",
   "metadata": {},
   "source": [
    "### Description of Fields in Dataset"
   ]
  },
  {
   "cell_type": "markdown",
   "metadata": {},
   "source": [
    "*Below is a description of all of the fields in the dataset that I will be working with to build and train my models and complete the analysis*\n",
    "\n",
    "**Features**\n",
    "- `id` — unique oil well identifier\n",
    "- `f0, f1, f2` — three features of points (their specific meaning is unimportant, but the features themselves are significant)\n",
    "\n",
    "**Target**\n",
    "- `product` — volume of reserves in the oil well (thousand barrels)\n"
   ]
  },
  {
   "cell_type": "markdown",
   "metadata": {},
   "source": [
    "### Check Sample of Each Data Set"
   ]
  },
  {
   "cell_type": "code",
   "execution_count": 29,
   "metadata": {},
   "outputs": [
    {
     "name": "stdout",
     "output_type": "stream",
     "text": [
      "      id        f0        f1        f2     product\n",
      "0  txEyH  0.705745 -0.497823  1.221170  105.280062\n",
      "1  2acmU  1.334711 -0.340164  4.365080   73.037750\n",
      "2  409Wp  1.022732  0.151990  1.419926   85.265647\n",
      "3  iJLyR -0.032172  0.139033  2.978566  168.620776\n",
      "4  Xdl7t  1.988431  0.155413  4.751769  154.036647\n",
      "      id         f0         f1        f2     product\n",
      "0  kBEdx -15.001348  -8.276000 -0.005876    3.179103\n",
      "1  62mP7  14.272088  -3.475083  0.999183   26.953261\n",
      "2  vyE1P   6.263187  -5.948386  5.001160  134.766305\n",
      "3  KcrkZ -13.081196 -11.506057  4.999415  137.945408\n",
      "4  AHL4O  12.702195  -8.147433  5.004363  134.766305\n",
      "      id        f0        f1        f2     product\n",
      "0  fwXo0 -1.146987  0.963328 -0.828965   27.758673\n",
      "1  WJtFt  0.262778  0.269839 -2.530187   56.069697\n",
      "2  ovLUW  0.194587  0.289035 -5.586433   62.871910\n",
      "3  q6cA6  2.236060 -0.553760  0.930038  114.572842\n",
      "4  WPMUX -0.515993  1.716266  5.899011  149.600746\n",
      "\n",
      "(100000, 5)\n",
      "(100000, 5)\n",
      "(100000, 5)\n"
     ]
    }
   ],
   "source": [
    "# Print sample of each dataframe\n",
    "print(region_A.head())\n",
    "print(region_B.head())\n",
    "print(region_C.head())\n",
    "\n",
    "# Print shape of each dataframe\n",
    "print()\n",
    "print(region_A.shape)\n",
    "print(region_B.shape)\n",
    "print(region_C.shape)"
   ]
  },
  {
   "cell_type": "markdown",
   "metadata": {},
   "source": [
    "### Explore Each Region's Dataset"
   ]
  },
  {
   "cell_type": "markdown",
   "metadata": {},
   "source": [
    "#### Explore Region A Dataset"
   ]
  },
  {
   "cell_type": "code",
   "execution_count": 33,
   "metadata": {},
   "outputs": [
    {
     "name": "stdout",
     "output_type": "stream",
     "text": [
      "Check for Missing Values\n",
      "id         0\n",
      "f0         0\n",
      "f1         0\n",
      "f2         0\n",
      "product    0\n",
      "dtype: int64\n",
      "\n",
      " Describe Dataframe\n",
      "                  f0             f1             f2        product\n",
      "count  100000.000000  100000.000000  100000.000000  100000.000000\n",
      "mean        0.500419       0.250143       2.502647      92.500000\n",
      "std         0.871832       0.504433       3.248248      44.288691\n",
      "min        -1.408605      -0.848218     -12.088328       0.000000\n",
      "25%        -0.072580      -0.200881       0.287748      56.497507\n",
      "50%         0.502360       0.250252       2.515969      91.849972\n",
      "75%         1.073581       0.700646       4.715088     128.564089\n",
      "max         2.362331       1.343769      16.003790     185.364347\n",
      "\n",
      " Check Data Types\n",
      "<class 'pandas.core.frame.DataFrame'>\n",
      "RangeIndex: 100000 entries, 0 to 99999\n",
      "Data columns (total 5 columns):\n",
      " #   Column   Non-Null Count   Dtype  \n",
      "---  ------   --------------   -----  \n",
      " 0   id       100000 non-null  object \n",
      " 1   f0       100000 non-null  float64\n",
      " 2   f1       100000 non-null  float64\n",
      " 3   f2       100000 non-null  float64\n",
      " 4   product  100000 non-null  float64\n",
      "dtypes: float64(4), object(1)\n",
      "memory usage: 3.8+ MB\n",
      "None\n",
      "\n",
      " Check for Duplicate Rows\n",
      "          id        f0        f1         f2     product\n",
      "66136  74z30  1.084962 -0.312358   6.990771  127.643327\n",
      "64022  74z30  0.741456  0.459229   5.153109  140.771492\n",
      "51970  A5aEY -0.180335  0.935548  -2.094773   33.020205\n",
      "3389   A5aEY -0.039949  0.156872   0.209861   89.249364\n",
      "69163  AGS9W -0.933795  0.116194  -3.655896   19.230453\n",
      "42529  AGS9W  1.454747 -0.479651   0.683380  126.370504\n",
      "931    HZww2  0.755284  0.368511   1.863211   30.681774\n",
      "7530   HZww2  1.061194 -0.373969  10.430210  158.828695\n",
      "63593  QcMuo  0.635635 -0.473422   0.862670   64.578675\n",
      "1949   QcMuo  0.506563 -0.323775  -2.215583   75.496502\n",
      "75715  Tdehs  0.112079  0.430296   3.218993   60.964018\n",
      "21426  Tdehs  0.829407  0.298807  -0.049563   96.035308\n",
      "92341  TtcGQ  0.110711  1.022689   0.911381  101.318008\n",
      "60140  TtcGQ  0.569276 -0.104876   6.440215   85.350186\n",
      "89582  bsk9y  0.398908 -0.400253  10.122376  163.433078\n",
      "97785  bsk9y  0.378429  0.005837   0.160827  160.637302\n",
      "41724  bxg6G -0.823752  0.546319   3.630479   93.007798\n",
      "1364   bxg6G  0.411645  0.856830  -3.653440   73.604260\n",
      "16633  fiKDv  0.157341  1.028359   5.585586   95.817889\n",
      "90815  fiKDv  0.049883  0.841313   6.394613  137.346586\n"
     ]
    },
    {
     "data": {
      "text/plain": [
       "array(['HZww2', 'bxg6G', 'QcMuo', 'A5aEY', 'fiKDv', 'Tdehs', 'AGS9W',\n",
       "       'TtcGQ', '74z30', 'bsk9y'], dtype=object)"
      ]
     },
     "execution_count": 33,
     "metadata": {},
     "output_type": "execute_result"
    }
   ],
   "source": [
    "# Use print so I don't lose outputs\n",
    "\n",
    "# Check for missing values\n",
    "print('Check for Missing Values')\n",
    "print(region_A.isna().sum())\n",
    "\n",
    "# Check values for each column\n",
    "print('\\n Describe Dataframe')\n",
    "print(region_A.describe())\n",
    "\n",
    "# Check data types\n",
    "print('\\n Check Data Types')\n",
    "print(region_A.info())\n",
    "#print(churn.dtypes)\n",
    "\n",
    "# Check for duplicate rows\n",
    "print('\\n Check for Duplicate Rows')\n",
    "print(region_A[region_A['id'].duplicated(keep=False)].sort_values(by=['id']))\n",
    "\n",
    "# Find duplicate ids in dataset\n",
    "region_A[region_A['id'].duplicated(keep=False)]['id'].unique()"
   ]
  },
  {
   "cell_type": "markdown",
   "metadata": {},
   "source": [
    "#### Explore Region B Dataset"
   ]
  },
  {
   "cell_type": "code",
   "execution_count": 36,
   "metadata": {},
   "outputs": [
    {
     "name": "stdout",
     "output_type": "stream",
     "text": [
      "Check for Missing Values\n",
      "id         0\n",
      "f0         0\n",
      "f1         0\n",
      "f2         0\n",
      "product    0\n",
      "dtype: int64\n",
      "\n",
      " Describe Dataframe\n",
      "                  f0             f1             f2        product\n",
      "count  100000.000000  100000.000000  100000.000000  100000.000000\n",
      "mean        1.141296      -4.796579       2.494541      68.825000\n",
      "std         8.965932       5.119872       1.703572      45.944423\n",
      "min       -31.609576     -26.358598      -0.018144       0.000000\n",
      "25%        -6.298551      -8.267985       1.000021      26.953261\n",
      "50%         1.153055      -4.813172       2.011479      57.085625\n",
      "75%         8.621015      -1.332816       3.999904     107.813044\n",
      "max        29.421755      18.734063       5.019721     137.945408\n",
      "\n",
      " Check Data Types\n",
      "<class 'pandas.core.frame.DataFrame'>\n",
      "RangeIndex: 100000 entries, 0 to 99999\n",
      "Data columns (total 5 columns):\n",
      " #   Column   Non-Null Count   Dtype  \n",
      "---  ------   --------------   -----  \n",
      " 0   id       100000 non-null  object \n",
      " 1   f0       100000 non-null  float64\n",
      " 2   f1       100000 non-null  float64\n",
      " 3   f2       100000 non-null  float64\n",
      " 4   product  100000 non-null  float64\n",
      "dtypes: float64(4), object(1)\n",
      "memory usage: 3.8+ MB\n",
      "None\n",
      "\n",
      " Check for Duplicate Rows\n",
      "          id         f0         f1        f2     product\n",
      "5849   5ltQ6  -3.435401 -12.296043  1.999796   57.085625\n",
      "84461  5ltQ6  18.213839   2.191999  3.993869  107.813044\n",
      "1305   LHZR0  11.170835  -1.945066  3.002872   80.859783\n",
      "41906  LHZR0  -8.989672  -4.286607  2.009139   57.085625\n",
      "2721   bfPNe  -9.494442  -5.463692  4.006042  110.992147\n",
      "82178  bfPNe  -6.202799  -4.820045  2.995107   84.038886\n",
      "47591  wt4Uk  -9.091098  -8.109279 -0.002314    3.179103\n",
      "82873  wt4Uk  10.259972  -9.376355  4.994297  134.766305\n"
     ]
    },
    {
     "data": {
      "text/plain": [
       "array(['LHZR0', 'bfPNe', '5ltQ6', 'wt4Uk'], dtype=object)"
      ]
     },
     "execution_count": 36,
     "metadata": {},
     "output_type": "execute_result"
    }
   ],
   "source": [
    "# Use print so I don't lose outputs\n",
    "\n",
    "# Check for missing values\n",
    "print('Check for Missing Values')\n",
    "print(region_B.isna().sum())\n",
    "\n",
    "# Check values for each column\n",
    "print('\\n Describe Dataframe')\n",
    "print(region_B.describe())\n",
    "\n",
    "# Check data types\n",
    "print('\\n Check Data Types')\n",
    "print(region_B.info())\n",
    "#print(churn.dtypes)\n",
    "\n",
    "# Check for duplicate rows\n",
    "print('\\n Check for Duplicate Rows')\n",
    "print(region_B[region_B['id'].duplicated(keep=False)].sort_values(by=['id']))\n",
    "\n",
    "# Find duplicate ids in dataset\n",
    "region_B[region_B['id'].duplicated(keep=False)]['id'].unique()"
   ]
  },
  {
   "cell_type": "markdown",
   "metadata": {},
   "source": [
    "#### Explore Region C Dataset"
   ]
  },
  {
   "cell_type": "code",
   "execution_count": 39,
   "metadata": {},
   "outputs": [
    {
     "name": "stdout",
     "output_type": "stream",
     "text": [
      "Check for Missing Values\n",
      "id         0\n",
      "f0         0\n",
      "f1         0\n",
      "f2         0\n",
      "product    0\n",
      "dtype: int64\n",
      "\n",
      " Describe Dataframe\n",
      "                  f0             f1             f2        product\n",
      "count  100000.000000  100000.000000  100000.000000  100000.000000\n",
      "mean        0.002023      -0.002081       2.495128      95.000000\n",
      "std         1.732045       1.730417       3.473445      44.749921\n",
      "min        -8.760004      -7.084020     -11.970335       0.000000\n",
      "25%        -1.162288      -1.174820       0.130359      59.450441\n",
      "50%         0.009424      -0.009482       2.484236      94.925613\n",
      "75%         1.158535       1.163678       4.858794     130.595027\n",
      "max         7.238262       7.844801      16.739402     190.029838\n",
      "\n",
      " Check Data Types\n",
      "<class 'pandas.core.frame.DataFrame'>\n",
      "RangeIndex: 100000 entries, 0 to 99999\n",
      "Data columns (total 5 columns):\n",
      " #   Column   Non-Null Count   Dtype  \n",
      "---  ------   --------------   -----  \n",
      " 0   id       100000 non-null  object \n",
      " 1   f0       100000 non-null  float64\n",
      " 2   f1       100000 non-null  float64\n",
      " 3   f2       100000 non-null  float64\n",
      " 4   product  100000 non-null  float64\n",
      "dtypes: float64(4), object(1)\n",
      "memory usage: 3.8+ MB\n",
      "None\n",
      "\n",
      " Check for Duplicate Rows\n",
      "          id        f0        f1        f2     product\n",
      "45404  KUPhW  0.231846 -1.698941  4.990775   11.716299\n",
      "55967  KUPhW  1.211150  3.176408  5.543540  132.831802\n",
      "11449  VF7Jo  2.122656 -0.858275  5.746001  181.716817\n",
      "49564  VF7Jo -0.883115  0.560537  0.723601  136.233420\n",
      "44378  Vcm5J -1.229484 -2.439204  1.222909  137.968290\n",
      "95090  Vcm5J  2.587702  1.986875  2.482245   92.327572\n",
      "28039  xCHr8  1.633027  0.368135 -2.378367    6.120525\n",
      "43233  xCHr8 -0.847066  2.101796  5.597130  184.388641\n"
     ]
    },
    {
     "data": {
      "text/plain": [
       "array(['VF7Jo', 'xCHr8', 'Vcm5J', 'KUPhW'], dtype=object)"
      ]
     },
     "execution_count": 39,
     "metadata": {},
     "output_type": "execute_result"
    }
   ],
   "source": [
    "# Use print so I don't lose outputs\n",
    "\n",
    "# Check for missing values\n",
    "print('Check for Missing Values')\n",
    "print(region_C.isna().sum())\n",
    "\n",
    "# Check values for each column\n",
    "print('\\n Describe Dataframe')\n",
    "print(region_C.describe())\n",
    "\n",
    "# Check data types\n",
    "print('\\n Check Data Types')\n",
    "print(region_C.info())\n",
    "#print(churn.dtypes)\n",
    "\n",
    "# Check for duplicate rows\n",
    "print('\\n Check for Duplicate Rows')\n",
    "print(region_C[region_C['id'].duplicated(keep=False)].sort_values(by=['id']))\n",
    "\n",
    "# Find duplicate ids in dataset\n",
    "region_C[region_C['id'].duplicated(keep=False)]['id'].unique()"
   ]
  },
  {
   "cell_type": "markdown",
   "metadata": {},
   "source": [
    "### Data Exploration Findings"
   ]
  },
  {
   "cell_type": "markdown",
   "metadata": {},
   "source": [
    "There are a few findings which I've listed below from my data exploration. **I will address and changes that need to be made from my data exploration in Section 4.6: Prepare Data From Training -** \n",
    "1. There are no missing values in any of the region's datasets\n",
    "2. Datatypes are set correctly from ingestion. No datatype conversions required\n",
    "3. **There are duplicate ids within each region's dataset which means that there are oil wells that are not unique. I will remove these IDs from the dataset since as I am unsure of which record is correct.**\n",
    "4. Because the oil well ids are string values, I will not be able to be include them in the model. I cannot convert these oil wells to the numerical labels because the cardinality is much too high. For this reason, I am going to remove 'id' from the datasets for traning purposes."
   ]
  },
  {
   "cell_type": "markdown",
   "metadata": {},
   "source": [
    "### Prepare the Data for Training "
   ]
  },
  {
   "cell_type": "code",
   "execution_count": 44,
   "metadata": {},
   "outputs": [
    {
     "name": "stdout",
     "output_type": "stream",
     "text": [
      "10\n",
      "4\n",
      "4\n"
     ]
    },
    {
     "data": {
      "text/plain": [
       "array([], dtype=object)"
      ]
     },
     "execution_count": 44,
     "metadata": {},
     "output_type": "execute_result"
    }
   ],
   "source": [
    "# Remove duplicate ids in each regions data sets\n",
    "# Start by getting list of duplicated ids in each region\n",
    "region_A_duplicated_ids = region_A[region_A['id'].duplicated(keep=False)]['id'].unique()\n",
    "region_B_duplicated_ids = region_B[region_B['id'].duplicated(keep=False)]['id'].unique()\n",
    "region_C_duplicated_ids = region_C[region_C['id'].duplicated(keep=False)]['id'].unique()\n",
    "\n",
    "# Confirm count of duplicated ids are in the list\n",
    "print(len(region_A_duplicated_ids))\n",
    "print(len(region_B_duplicated_ids))\n",
    "print(len(region_C_duplicated_ids))\n",
    "\n",
    "# Remove ids from each regions df \n",
    "region_A = region_A.query(\"id not in @region_A_duplicated_ids\")\n",
    "region_B = region_B.query(\"id not in @region_B_duplicated_ids\")\n",
    "region_C = region_C.query(\"id not in @region_C_duplicated_ids\")\n",
    "\n",
    "# Confirm count of duplicated ids are in the list\n",
    "region_A[region_A['id'].duplicated(keep=False)]['id'].unique()\n",
    "region_B[region_B['id'].duplicated(keep=False)]['id'].unique()\n",
    "region_C[region_C['id'].duplicated(keep=False)]['id'].unique()\n",
    "\n",
    "# Duplicates removed"
   ]
  },
  {
   "cell_type": "code",
   "execution_count": 46,
   "metadata": {},
   "outputs": [],
   "source": [
    "# Drop ID from each region's dataset to be used for tranining\n",
    "region_A = region_A.drop('id', axis=1)\n",
    "region_B = region_B.drop('id', axis=1)\n",
    "region_C = region_C.drop('id', axis=1)"
   ]
  },
  {
   "cell_type": "markdown",
   "metadata": {},
   "source": [
    "## Train & Test the Model For Each Region\n",
    "\n",
    "*__In this section, I will -__*\n",
    "\n",
    " - Split each region's data into a training set and validation set at a ratio of 75:25\n",
    " - Train the model and make predictions for the validation set\n",
    " - Save the predictions and correct answers for the validation set\n",
    " - Print the average volume of predicted reserves and model RMSE\n",
    " - Analyze the results"
   ]
  },
  {
   "cell_type": "markdown",
   "metadata": {},
   "source": [
    "**Note -** Because we are predicting volume of oil reserves, this is a regression problem and not a classification problem. For this reason and because of the project requirements, I will select a linear regression model."
   ]
  },
  {
   "cell_type": "markdown",
   "metadata": {},
   "source": [
    "### Split Data into a Training & Validation Set at a Ratio of 75:25 For Each Region"
   ]
  },
  {
   "cell_type": "markdown",
   "metadata": {},
   "source": [
    "#### Split Dataset into Features & Target"
   ]
  },
  {
   "cell_type": "code",
   "execution_count": 52,
   "metadata": {},
   "outputs": [],
   "source": [
    "# Create target and feature datasets\n",
    "# Product will be the target\n",
    "\n",
    "# Region A\n",
    "target_A = region_A['product']\n",
    "features_A = region_A.drop('product', axis=1)\n",
    "\n",
    "# Region B\n",
    "target_B = region_B['product']\n",
    "features_B = region_B.drop('product', axis=1)\n",
    "\n",
    "# Region C\n",
    "target_C = region_C['product']\n",
    "features_C = region_C.drop('product', axis=1)"
   ]
  },
  {
   "cell_type": "markdown",
   "metadata": {},
   "source": [
    "#### Split Data into Training & Validation Set at a Ratio of 75:25"
   ]
  },
  {
   "cell_type": "code",
   "execution_count": 55,
   "metadata": {},
   "outputs": [
    {
     "name": "stdout",
     "output_type": "stream",
     "text": [
      "Region A Training & Validation Datasets\n",
      "(74985, 3)\n",
      "(74985,)\n",
      "(24995, 3)\n",
      "(24995,)\n",
      "\n",
      "Region B Training & Validation Datasets\n",
      "(74994, 3)\n",
      "(74994,)\n",
      "(24998, 3)\n",
      "(24998,)\n",
      "\n",
      "Region C Training & Validation Datasets\n",
      "(74994, 3)\n",
      "(74994,)\n",
      "(24998, 3)\n",
      "(24998,)\n"
     ]
    }
   ],
   "source": [
    "# Create Training and Validation Test Datasets. Split 3:1\n",
    "# We will split .75 to get a training dataset and 25% to get validation\n",
    "# Set Random State to 12345 to Replicate Training Set in Future\n",
    "\n",
    "# Region A\n",
    "features_train_A, features_valid_A, target_train_A, target_valid_A = train_test_split(\n",
    "    features_A, target_A, test_size=0.25, random_state=12345)\n",
    "\n",
    "# Check the sizes of the training, validation, and test sets for 3:1:1 ratio\n",
    "# Training \n",
    "print('Region A Training & Validation Datasets')\n",
    "print(features_train_A.shape) # Training set contains 75% of original dataframe rows \n",
    "print(target_train_A.shape)   # Training set contains 75% of original dataframe rows \n",
    "\n",
    "# Validation\n",
    "print(features_valid_A.shape) # Validation set contains 25% of original dataframe rows \n",
    "print(target_valid_A.shape)   # Validation set contains 25% of original dataframe rows \n",
    "\n",
    "############################################################################################################\n",
    "\n",
    "# Region B\n",
    "features_train_B, features_valid_B, target_train_B, target_valid_B = train_test_split(\n",
    "    features_B, target_B, test_size=0.25, random_state=12345)\n",
    "\n",
    "# Check the sizes of the training, validation, and test sets for 3:1:1 ratio\n",
    "# Training \n",
    "print()\n",
    "print('Region B Training & Validation Datasets')\n",
    "print(features_train_B.shape) # Training set contains 75% of original dataframe rows \n",
    "print(target_train_B.shape)   # Training set contains 75% of original dataframe rows \n",
    "\n",
    "# Validation\n",
    "print(features_valid_B.shape) # Validation set contains 25% of original dataframe rows \n",
    "print(target_valid_B.shape)   # Validation set contains 25% of original dataframe rows \n",
    "\n",
    "############################################################################################################\n",
    "\n",
    "# Region C\n",
    "features_train_C, features_valid_C, target_train_C, target_valid_C = train_test_split(\n",
    "    features_C, target_C, test_size=0.25, random_state=12345)\n",
    "\n",
    "# Check the sizes of the training, validation, and test sets for 3:1:1 ratio\n",
    "# Training \n",
    "print()\n",
    "print('Region C Training & Validation Datasets')\n",
    "print(features_train_C.shape) # Training set contains 75% of original dataframe rows \n",
    "print(target_train_C.shape)   # Training set contains 75% of original dataframe rows \n",
    "\n",
    "# Validation\n",
    "print(features_valid_C.shape) # Validation set contains 25% of original dataframe rows \n",
    "print(target_valid_C.shape)   # Validation set contains 25% of original dataframe rows "
   ]
  },
  {
   "cell_type": "markdown",
   "metadata": {},
   "source": [
    "### Train Model & Make Predictions For Each Region's Validation Set\n",
    "*__Now that I have split my dataset into training and validation datasets, I can train my model. In this step, I will -__*\n",
    " - Train Model & Make Predictions For Validation Set\n",
    " - Save Predictions & Correct Answers for Validation Set"
   ]
  },
  {
   "cell_type": "code",
   "execution_count": 58,
   "metadata": {},
   "outputs": [],
   "source": [
    "# Use LinearRegression Model for predictions \n",
    "model = LinearRegression()\n",
    "\n",
    "# Fit the model to the training dataset\n",
    "model.fit(features_train_A, target_train_A)\n",
    "model.fit(features_train_B, target_train_B)\n",
    "model.fit(features_train_C, target_train_C)\n",
    "\n",
    "# Predict the target values for the validation set using model fit to training dataset\n",
    "predictions_valid_A = model.predict(features_valid_A)\n",
    "predictions_valid_B = model.predict(features_valid_B)\n",
    "predictions_valid_C = model.predict(features_valid_C)"
   ]
  },
  {
   "cell_type": "markdown",
   "metadata": {},
   "source": [
    "### Print Average Volume of Predicted Reserves & Model RMSE\n",
    "**RMSE, otherwise known as Root Mean Square Error,** is measures the average difference between values predicted by a model and the actual values. It provides an estimation of how well the model is able to predict the target value (accuracy)."
   ]
  },
  {
   "cell_type": "code",
   "execution_count": 61,
   "metadata": {},
   "outputs": [
    {
     "name": "stdout",
     "output_type": "stream",
     "text": [
      "Region A Results\n",
      "RMSE of the Linear Regression Model on the Validation Set is: 38.97\n",
      "Average Volume of Predicted Reserves from the Validation set is: 95.11\n",
      "\n",
      "Region B Results\n",
      "RMSE of the Linear Regression Model on the Validation Set is: 44.81\n",
      "Average Volume of Predicted Reserves from the Validation set is: 95.46\n",
      "\n",
      "Region C Results\n",
      "RMSE of the Linear Regression Model on the Validation Set is: 39.98\n",
      "Average Volume of Predicted Reserves from the Validation set is: 95.12\n"
     ]
    }
   ],
   "source": [
    "# Region A\n",
    "print('Region A Results')\n",
    "\n",
    "# Calculate the RMSE by raising the MSE to the 1/2 power\n",
    "result_A = mean_squared_error(target_valid_A, predictions_valid_A)**0.5\n",
    "\n",
    "# Print the RMSE of the Model\n",
    "print(\"RMSE of the Linear Regression Model on the Validation Set is:\", round(result_A,2))\n",
    "\n",
    "# Print the Average Volume of Predicted Reserves from the Validation set\n",
    "print(\"Average Volume of Predicted Reserves from the Validation set is:\", round(predictions_valid_A.mean(),2))\n",
    "\n",
    "##############################################################################\n",
    "\n",
    "# Region B\n",
    "print()\n",
    "print('Region B Results')\n",
    "\n",
    "# Calculate the RMSE by raising the MSE to the 1/2 power\n",
    "result_B = mean_squared_error(target_valid_B, predictions_valid_B)**0.5\n",
    "\n",
    "# Print the RMSE of the Model\n",
    "print(\"RMSE of the Linear Regression Model on the Validation Set is:\", round(result_B,2))\n",
    "\n",
    "# Print the Average Volume of Predicted Reserves from the Validation set\n",
    "print(\"Average Volume of Predicted Reserves from the Validation set is:\", round(predictions_valid_B.mean(),2))\n",
    "\n",
    "##############################################################################\n",
    "\n",
    "# Region C\n",
    "print()\n",
    "print('Region C Results')\n",
    "\n",
    "# Calculate the RMSE by raising the MSE to the 1/2 power\n",
    "result_C = mean_squared_error(target_valid_C, predictions_valid_C)**0.5\n",
    "\n",
    "# Print the RMSE of the Model\n",
    "print(\"RMSE of the Linear Regression Model on the Validation Set is:\", round(result_C,2))\n",
    "\n",
    "# Print the Average Volume of Predicted Reserves from the Validation set\n",
    "print(\"Average Volume of Predicted Reserves from the Validation set is:\", round(predictions_valid_C.mean(),2))"
   ]
  },
  {
   "cell_type": "markdown",
   "metadata": {},
   "source": [
    "### Analyze The Results of the Model"
   ]
  },
  {
   "cell_type": "markdown",
   "metadata": {},
   "source": [
    "After training the model and fitting the model to the validation data set, the model produced the following results - \n",
    " - The Average Volume of Predicted Reserves for all three regions is approximately ~95 \n",
    " - Region A had the lowest RMSE (38.97), followed closely by Region C (39.98). Again, RMSE measures the average difference between values predicted by a model and the actual values. It provides an estimation of how well the model is able to predict the target value (accuracy). Given this, I would say that the LinearRegression Model doesn't provide the best results as the RMSE is almost half of the average volumen of predicted reserves. In future analysis, we might be to try different models to minimize our RMSE to get model predictions closer to our actual values.\n",
    " "
   ]
  },
  {
   "cell_type": "markdown",
   "metadata": {},
   "source": [
    "## Prepare For Profit Calculation\n",
    "\n",
    "*__In this section, I will -__*\n",
    "\n",
    " - Store all key values for calculations in separate variables, which will be used in the profit function\n",
    " - Calculate the volume of reserves sufficient for developing a new well without losses\n",
    "     - Compare the obtained value with the average volume of reserves in each region\n",
    " - Provide the findings about the preparation for profit calculation step"
   ]
  },
  {
   "cell_type": "markdown",
   "metadata": {},
   "source": [
    "**There are a few considerations that need to be discussed when determining profitable regions -**\n",
    "1. We have a budget of 100 Million USD when scoping out which regions would be worthwhile to invest in\n",
    "2. The budget of 100 million will go towards developing 200 oil wells\n",
    "3. The revenue from one unit of product is 4,500 dollars\n",
    "    - Volume of reserves is in thousand barrels where one barrel of raw materials brings 4.5 USD of revenue (4.5 USD a barrel multipied by 1000 barrels) \n",
    "4. After our risk evaluation, we will keep only the regions with the risk of losses lower than 2.5%. From the ones that fit the criteria, the region with the highest average profit should be selected."
   ]
  },
  {
   "cell_type": "markdown",
   "metadata": {},
   "source": [
    "### Store All Key Values for Calculations in Separate Variables\n",
    "We will create variables for **budget, well sample size, and revenue per unit which will be used a parameters in our profit function**"
   ]
  },
  {
   "cell_type": "code",
   "execution_count": 68,
   "metadata": {},
   "outputs": [],
   "source": [
    "# Create variable for budget\n",
    "budget_amount = 100000000\n",
    "\n",
    "# Create variable for well sample size\n",
    "well_sample_size = 200\n",
    "\n",
    "# Create variable for revenue per unit\n",
    "revenue_per_unit = 4500"
   ]
  },
  {
   "cell_type": "markdown",
   "metadata": {},
   "source": [
    "### Calculate the Volume of Reserves Sufficient for Developing a New Well Without Losses\n",
    "The calculation in the cell below will tell us the minumum volume of oil a well would need to produce, on average, in order to breakeven on our investment given that the revenue for one volume unit generates $4,500 USD.\n",
    "\n",
    "*__The calculation will be -__*\n",
    "\n",
    "`(Total Budget / Revenue Per Well) / 200 Wells = Minimum Average Volume Per Well`"
   ]
  },
  {
   "cell_type": "code",
   "execution_count": 71,
   "metadata": {},
   "outputs": [
    {
     "name": "stdout",
     "output_type": "stream",
     "text": [
      "The minimum volume of oil each well would need to produce to break even is 111.11\n"
     ]
    }
   ],
   "source": [
    "# Calculate minimum volume per well  \n",
    "average_volume_per_well = (budget_amount /revenue_per_unit) / well_sample_size\n",
    "\n",
    "# Print result\n",
    "print('The minimum volume of oil each well would need to produce to break even is', round(average_volume_per_well,2))"
   ]
  },
  {
   "cell_type": "markdown",
   "metadata": {},
   "source": [
    "### Compare the Obtained Value With the Average Volume of Reserves in Each Region\n",
    "The cell below will calculate the average oil volume per well for each region so that we can see how it compares to the breakeven volume. "
   ]
  },
  {
   "cell_type": "code",
   "execution_count": 74,
   "metadata": {},
   "outputs": [
    {
     "name": "stdout",
     "output_type": "stream",
     "text": [
      "On average, the volume of oil each well in Region A produces is 92.5\n",
      "On average, the volume of oil each well in Region B produces is 68.82\n",
      "On average, the volume of oil each well in Region C produces is 95.0\n"
     ]
    }
   ],
   "source": [
    "# Caculate the average oil volume per well for each region \n",
    "region_A_average = region_A['product'].mean()\n",
    "region_B_average = region_B['product'].mean()\n",
    "region_C_average = region_C['product'].mean()\n",
    "\n",
    "# Print volumes for each region\n",
    "print('On average, the volume of oil each well in Region A produces is', round(region_A_average,2))\n",
    "print('On average, the volume of oil each well in Region B produces is', round(region_B_average,2))\n",
    "print('On average, the volume of oil each well in Region C produces is', round(region_C_average,2))"
   ]
  },
  {
   "cell_type": "markdown",
   "metadata": {},
   "source": [
    "**Compared to the breakeven volume of 111.11, Regions A (92.5), B (68.82), and C (95.0), on average, produce a lot less oil. Investing at this point would maybe not be profitable. We are going to have to do some more analysis before we invest our money in any of these regions.**"
   ]
  },
  {
   "cell_type": "markdown",
   "metadata": {},
   "source": [
    "## Write Function to Calculate Profit From Set of Selected Oil Wells & Model Predictions\n",
    "\n",
    "*__In this section, I will -__*\n",
    "\n",
    " - Pick the wells with the highest values of predictions from the model \n",
    " - Summarize the target volume of reserves in accordance with these predictions\n",
    " - Provide findings: suggest a region for oil wells' development and justify the choice. \n",
    "   - Calculate the profit for the obtained volume of reserves."
   ]
  },
  {
   "cell_type": "code",
   "execution_count": 78,
   "metadata": {},
   "outputs": [
    {
     "name": "stdout",
     "output_type": "stream",
     "text": [
      "Region A\n",
      "The total oil reserve size for Region A is 27525.41\n",
      "The average volume per the top 200 wells in Region A is 137.63\n",
      "The revenue for Region A is 123864348.34\n",
      "The profit for Region A is 23864348.34\n",
      "\n",
      "Region B\n",
      "The total oil reserve size for Region B is 27137.65\n",
      "The average volume per the top 200 wells in Region B is 135.69\n",
      "The revenue for Region B is 122119420.42\n",
      "The profit for Region B is 22119420.42\n",
      "\n",
      "Region C\n",
      "The total oil reserve size for Region C is 27702.1\n",
      "The average volume per the top 200 wells in Region C is 138.51\n",
      "The revenue for Region C is 124659457.92\n",
      "The profit for Region C is 24659457.92\n",
      "\n"
     ]
    }
   ],
   "source": [
    "# Create function to calculate revenue for wells with the top 200 highest predicted oil reserves\n",
    "def calculate_profit(target, probabilities, count, budget, revenue, region):\n",
    "    \n",
    "    # Convert target and probabilities into series\n",
    "    target_series = pd.Series(target)\n",
    "    predictions_series = pd.Series(probabilities)\n",
    "        \n",
    "    # Reset the index on the target\n",
    "    target_series = target_series.reset_index(drop=True)\n",
    "    \n",
    "    # Sort the predictions by the volume desc and select the indicies of the top 200 oil producing wells\n",
    "    # These indicies will be used to filter for the actual values of those top 200 wells so that we can calculate revenue\n",
    "    top_wells = predictions_series.sort_values(ascending=False).head(count).index\n",
    "    \n",
    "    # Get the volume of oil from the top 200 wells \n",
    "    actual_volume = target_series.loc[top_wells].sum()\n",
    "    \n",
    "    # Get the average volume of oil from the top 200 wells \n",
    "    average_volume = target_series.loc[top_wells].mean()\n",
    "    \n",
    "    # Create calcuation for revenue\n",
    "    # Revenue is the volume of oil for top 200 wells multiplied by $4500\n",
    "    revenue_calc = actual_volume * revenue_per_unit\n",
    "    \n",
    "    # Profit is defined as the revenue minus our budget of $100 Million USD to purchase 200 wells in a region\n",
    "    profit = revenue_calc - budget_amount\n",
    "    \n",
    "    # Return values after running function\n",
    "    print(region)\n",
    "    print('The total oil reserve size for', region, 'is', round(actual_volume,2))\n",
    "    print('The average volume per the top 200 wells in', region, 'is', round(average_volume,2))\n",
    "    print('The revenue for', region, 'is', round(revenue_calc,2))\n",
    "    print('The profit for', region, 'is', round(profit,2))\n",
    "    print()\n",
    "    \n",
    "# Call function to calculate revenue and profit per region and other metrics per region    \n",
    "\n",
    "# Region A\n",
    "calculate_profit(target_valid_A, predictions_valid_A, well_sample_size, budget_amount, revenue_per_unit, 'Region A')\n",
    "\n",
    "# Region B\n",
    "calculate_profit(target_valid_B, predictions_valid_B, well_sample_size, budget_amount, revenue_per_unit, 'Region B')\n",
    "\n",
    "# Region C\n",
    "calculate_profit(target_valid_C, predictions_valid_C, well_sample_size, budget_amount, revenue_per_unit, 'Region C')"
   ]
  },
  {
   "cell_type": "markdown",
   "metadata": {},
   "source": [
    "### Summarize The Findings - Suggest a Region for Development & Justify the Choice"
   ]
  },
  {
   "cell_type": "markdown",
   "metadata": {},
   "source": [
    "In the previous cell, we wanted to understand how much volume the top 200 oil wells produce in each region. To do this, we took the follow steps -\n",
    "\n",
    "1. Using the model's predicted volume for each oil well in region, we create a list of the top 200 wells in each region. \n",
    "2. Using the incidices of these 200 wells, we select the actual volume of these wells from the target validation set\n",
    "3. Using the actual volume of the top 200 wells in each region, we sum the volume of each well to get a total volume for the region.\n",
    "4. We multiple the total volume by \\$4,500 which is the price per 1000 barrels per one unit of volume. This will give us revenue for the top 200 wells in each region.\n",
    "5. If we subtract our budget of $100 Million USD from each region's revenue, we will know the profit the region is expected to make us if we invest in the creation of 200 wells in that region. \n",
    "\n",
    "With this methodology, **the region that will produce the greatest profit is Region C.** The expected profits of each region are listed below - \n",
    " - **Region C - \\$24,659,457.92**\n",
    " - Region A - \\$23,864,348.34\n",
    " - Region B - \\$22,119,420.42\n",
    " \n",
    "Additionally, to break even, we needed a volume on average of 111.11. When we pick the top 200 wells in each region, we see that the volume far exceeds 111.11. There is a chance now that we can be profitable, but we will need to calculate the risk of having losses in each region, which will be calculated in one of the sections below. \n"
   ]
  },
  {
   "cell_type": "markdown",
   "metadata": {},
   "source": [
    "## Calculate Risks & Profit For Each Region\n",
    "\n",
    "*__In this section, I will -__*\n",
    "\n",
    " - Use the bootstrapping technique with 1000 samples to find the distribution of profit\n",
    " - Find average profit, 95% confidence interval and risk of losses. Loss is negative profit, calculate it as a probability and then express as a percentage\n",
    " - Provide findings: suggest a region for development of oil wells and justify the choice"
   ]
  },
  {
   "cell_type": "markdown",
   "metadata": {},
   "source": [
    "### Use Bootstrapping Technique With 1000 Samples to Find the Distribution of Profit"
   ]
  },
  {
   "cell_type": "code",
   "execution_count": 84,
   "metadata": {},
   "outputs": [
    {
     "data": {
      "image/png": "[encoded data removed]",
      "text/plain": [
       "<Figure size 640x480 with 1 Axes>"
      ]
     },
     "metadata": {},
     "output_type": "display_data"
    },
    {
     "data": {
      "image/png": "[encoded data removed]",
      "text/plain": [
       "<Figure size 640x480 with 1 Axes>"
      ]
     },
     "metadata": {},
     "output_type": "display_data"
    },
    {
     "data": {
      "image/png": "[encoded data removed]",
      "text/plain": [
       "<Figure size 640x480 with 1 Axes>"
      ]
     },
     "metadata": {},
     "output_type": "display_data"
    }
   ],
   "source": [
    "# Create function to calculate revenue for wells with the top 200 highest predicted oil reserves\n",
    "def calculate_profit_bootstrap(target, probabilities, count, budget, revenue, region):\n",
    "        \n",
    "    # Convert target and probabilities into series\n",
    "    target_series = pd.Series(target)\n",
    "    predictions_series = pd.Series(probabilities)\n",
    "        \n",
    "    # Reset the index on the target\n",
    "    target_series = target_series.reset_index(drop=True)\n",
    "    \n",
    "    # Reset the index on the predictions\n",
    "    predictions_series = predictions_series.reset_index(drop=True)\n",
    "      \n",
    "    # Sort the predictions by the volume desc and select the indicies of the top 200 wells\n",
    "    # Take a sample of the top 200 wells using replacement\n",
    "    # We want to do replacement because we want to find the average of volume of selecting any of the top 200 wells 200 times\n",
    "    # These indicies will be used to filter for the actual values of those top 200 wells so that we can calculate revenue\n",
    "    top_wells = predictions_series.sort_values(ascending=False).head(well_sample_size).sample(n=200, replace=True).index\n",
    "   \n",
    "    # Get the volume of oil from the top 200 wells that were sampled\n",
    "    actual_volume = target_series.loc[top_wells].sum()\n",
    "    \n",
    "    # Create calcuation for revenue\n",
    "    # Revenue is the volume of oil for top 200 wells multiplied by $4500\n",
    "    revenue_calc = actual_volume * revenue_per_unit\n",
    "    \n",
    "    # Profit is defined as the revenue minus our budget of $100 Million USD to purchase 200 wells in a region\n",
    "    profit = revenue_calc - budget_amount\n",
    "       \n",
    "    # Return profit\n",
    "    return profit\n",
    "\n",
    "#Create a list to hold each regions profit samples\n",
    "region_A_values = []\n",
    "region_B_values = []\n",
    "region_C_values = []\n",
    "\n",
    "#Run profit fucntion 1000 times and write the results to the respective lists\n",
    "for i in range(1000):\n",
    "    region_A_values.append(calculate_profit_bootstrap(target_valid_A, predictions_valid_A, well_sample_size, budget_amount, revenue_per_unit, 'Region A'))\n",
    "    region_B_values.append(calculate_profit_bootstrap(target_valid_B, predictions_valid_B, well_sample_size, budget_amount, revenue_per_unit, 'Region B'))\n",
    "    region_C_values.append(calculate_profit_bootstrap(target_valid_C, predictions_valid_C, well_sample_size, budget_amount, revenue_per_unit, 'Region C'))\n",
    "     \n",
    "        \n",
    "# Plot distributions of profit from sampling the top 200 wells in each region     \n",
    "# Region A\n",
    "plt.hist(region_A_values)\n",
    "plt.title('Region A - Profit Distribution For 200 Sampled Wells')\n",
    "plt.xlabel('Profit - in $10s of Million USD')\n",
    "plt.ylabel('Count of Oil Wells')\n",
    "plt.show()\n",
    "\n",
    "# Region B\n",
    "plt.hist(region_B_values, bins=20)\n",
    "plt.title('Region B - Profit Distribution For 200 Sampled Wells')\n",
    "plt.xlabel('Profit - in $10s of Million USD')\n",
    "plt.ylabel('Count of Oil Wells')\n",
    "plt.show()\n",
    "\n",
    "# Region C\n",
    "plt.hist(region_C_values, bins=20)\n",
    "plt.title('Region C - Profit Distribution For 200 Sampled Wells')\n",
    "plt.xlabel('Profit - in $10s of Million USD')\n",
    "plt.ylabel('Count of Oil Wells')\n",
    "plt.show()"
   ]
  },
  {
   "cell_type": "markdown",
   "metadata": {},
   "source": [
    "The distributions for each region look to be normally distributed around the average profit for the region. Averages look to be around the following estimates - \n",
    "- Region A - \\$24 Million\n",
    "- Region B - \\$22 Million\n",
    "- Region C - \\$25 Million"
   ]
  },
  {
   "cell_type": "markdown",
   "metadata": {},
   "source": [
    "### Find Average Profit, 95% Confidence Interval & Risk of Losses\n",
    "*__Note__* - Loss is negative profit, calculate it as a probability and then express as a percentage."
   ]
  },
  {
   "cell_type": "code",
   "execution_count": 88,
   "metadata": {
    "scrolled": true
   },
   "outputs": [
    {
     "name": "stdout",
     "output_type": "stream",
     "text": [
      "Here are the metrics of Region A -\n",
      "The lower and upper bounds are [-4197661.34, 10332342.53]\n",
      "The average profit of Region A is 2959582.11\n",
      "The risk of losses is 20.6 % - This is the probability that profit will be negative\n",
      "\n",
      "Here are the metrics of Region B -\n",
      "The lower and upper bounds are [-511086.98, 9229406.89]\n",
      "The average profit of Region B is 4426855.77\n",
      "The risk of losses is 4.2 % - This is the probability that profit will be negative\n",
      "\n",
      "Here are the metrics of Region C -\n",
      "The lower and upper bounds are [-4028998.45, 10280186.61]\n",
      "The average profit of Region C is 3279656.96\n",
      "The risk of losses is 19.2 % - This is the probability that profit will be negative\n",
      "\n"
     ]
    }
   ],
   "source": [
    "# Create a function for bootstrapping for confidence intervals \n",
    "# Parameters will be the same as for the profit function because profit function will also be used in this function\n",
    "def bootstrapping(target, probabilities, count, budget, revenue, region):\n",
    "    \n",
    "    # Convert target and probabilities into series\n",
    "    target_series = pd.Series(target)\n",
    "    predictions_series = pd.Series(probabilities)\n",
    "    \n",
    "    # Reset the index on the target\n",
    "    target_series = target_series.reset_index(drop=True)\n",
    "    \n",
    "    # Reset the index on the predictions\n",
    "    #predictions_series = predictions_series.reset_index(drop=True)\n",
    "    \n",
    "    # Create a list to store profits of each region \n",
    "    values = []\n",
    "    \n",
    "    # Create a varibale that stores the random state for sampling for reproducability\n",
    "    state = np.random.RandomState(12345)\n",
    "    \n",
    "    # We run the profit calculation 1000 using a sample of 500 wells from each region\n",
    "    # This will allow us to determine the average profit of any n number of wells to calculate loss\n",
    "    for i in range(1000):\n",
    "        target_subsample = target_series.sample(n=500, replace=True, random_state=state)\n",
    "        probs_subsample = predictions_series[target_subsample.index]\n",
    "        \n",
    "        values.append(calculate_profit_bootstrap(target_subsample, probs_subsample, count, budget, revenue, region))\n",
    "    \n",
    "    # Convert values to a series\n",
    "    values = pd.Series(values)\n",
    "    \n",
    "    # Create a upper and lower bound to calculate 95% confidence interval\n",
    "    lower = round(values.quantile(0.025),2)\n",
    "    upper = round(values.quantile(0.975),2)\n",
    "    \n",
    "    # Calculate mean of sample\n",
    "    mean = values.mean()\n",
    "    \n",
    "    # We want to determine how many of the 1000 runs have no profit to calculate risk of loss percentage\n",
    "    # unprofitable wells on average / 1000 runs\n",
    "    risk_of_losses = (values < 0).mean() * 100\n",
    "    \n",
    "    # Print metrics about the bootstrapping\n",
    "    print('Here are the metrics of', region,'-')\n",
    "    print('The lower and upper bounds are', list((lower,upper)))\n",
    "    print('The average profit of',region,'is', round(mean,2))\n",
    "    print('The risk of losses is', round(risk_of_losses,2),'% - This is the probability that profit will be negative')\n",
    "    print()\n",
    "\n",
    "# Run bootstrapping for each region\n",
    "bootstrapping(target_valid_A, predictions_valid_A, well_sample_size, budget_amount, revenue_per_unit, 'Region A')\n",
    "bootstrapping(target_valid_B, predictions_valid_B, well_sample_size, budget_amount, revenue_per_unit, 'Region B')\n",
    "bootstrapping(target_valid_C, predictions_valid_C, well_sample_size, budget_amount, revenue_per_unit, 'Region C')"
   ]
  },
  {
   "cell_type": "markdown",
   "metadata": {},
   "source": [
    "## Conclusion"
   ]
  },
  {
   "cell_type": "markdown",
   "metadata": {},
   "source": [
    "### Provide Findings: Suggest a Region for Development of Oil Wells & Justify the Choice"
   ]
  },
  {
   "cell_type": "markdown",
   "metadata": {},
   "source": [
    "To help make it easier to visualize which region OilyGiant mining company should develop in, I created the table below with the findings from each Region - "
   ]
  },
  {
   "cell_type": "markdown",
   "metadata": {},
   "source": [
    "| Region       | Lower Bound     | Upper Bound   | Average Profit  | Risk of Losses  |\n",
    "| -----------  | ------          | ----          | ----            | ----     |\n",
    "| Region A     |  -4,750,652.92  | 9,493,674.16  | 2,741,939.54   | 21.1%    |\n",
    "| Region B     |  -473,533.83    | 9,359,388.99  | 4,454,815.22   | 3.2%     |\n",
    "| Region C     |  -3,624,449.01  | 10,963,629.04 | 3,338,564.25   | 19.2%    |"
   ]
  },
  {
   "cell_type": "markdown",
   "metadata": {},
   "source": [
    "After all of my analysis, my suggestion would be for OilyGiant mining company to develop in **Region B**. I suggest development in Region B because of the strong results Region B generated as a result of bootstrapping. When we select a sample of the top 200 wells from a larger random sample of 500 wells from each region 1000 times, we start to gain a more realistic understanding of what our profit might be and what the risk of losing money on our investment could be. By running the this experiment 1000 times, we see that Region B not only has the highest average profit for a selection of 200 wells given a random sample of 500, it also has the highest chance of being profitable (3.2% risk of losses). If there were to be losses for Region B, the lower bound for loss is much less extreme compared to the other regions. For example, if your investment is not profitable in Region B, you can expect to lose -473,533.83, whereas in the other two regions, you'd lose over $3 Million. After running our analysis, Region B seems like both a safe and profitable selection for OilyGiant mining company to develop wells in."
   ]
  },
  {
   "cell_type": "code",
   "execution_count": null,
   "metadata": {},
   "outputs": [],
   "source": []
  }
 ],
 "metadata": {
  "ExecuteTimeLog": [
   {
    "duration": 1335,
    "start_time": "2024-06-03T01:24:47.591Z"
   },
   {
    "duration": 7,
    "start_time": "2024-06-03T01:24:48.932Z"
   },
   {
    "duration": 475,
    "start_time": "2024-06-03T01:24:48.942Z"
   },
   {
    "duration": 21,
    "start_time": "2024-06-03T01:24:49.420Z"
   },
   {
    "duration": 116,
    "start_time": "2024-06-03T01:24:49.447Z"
   },
   {
    "duration": 137,
    "start_time": "2024-06-03T01:24:49.566Z"
   },
   {
    "duration": 126,
    "start_time": "2024-06-03T01:24:49.706Z"
   },
   {
    "duration": 164,
    "start_time": "2024-06-03T01:24:49.835Z"
   },
   {
    "duration": 15,
    "start_time": "2024-06-03T01:24:50.002Z"
   },
   {
    "duration": 12,
    "start_time": "2024-06-03T01:24:50.032Z"
   },
   {
    "duration": 44,
    "start_time": "2024-06-03T01:24:50.047Z"
   },
   {
    "duration": 56,
    "start_time": "2024-06-03T01:24:50.094Z"
   },
   {
    "duration": 13,
    "start_time": "2024-06-03T01:24:50.152Z"
   },
   {
    "duration": 4,
    "start_time": "2024-06-03T01:24:50.237Z"
   },
   {
    "duration": 4,
    "start_time": "2024-06-03T01:24:50.244Z"
   },
   {
    "duration": 84,
    "start_time": "2024-06-03T01:24:50.251Z"
   },
   {
    "duration": 26,
    "start_time": "2024-06-03T01:24:50.338Z"
   },
   {
    "duration": 14197,
    "start_time": "2024-06-03T01:24:50.367Z"
   },
   {
    "duration": 4557,
    "start_time": "2024-06-03T01:25:04.567Z"
   }
  ],
  "kernelspec": {
   "display_name": "Python 3 (ipykernel)",
   "language": "python",
   "name": "python3"
  },
  "language_info": {
   "codemirror_mode": {
    "name": "ipython",
    "version": 3
   },
   "file_extension": ".py",
   "mimetype": "text/x-python",
   "name": "python",
   "nbconvert_exporter": "python",
   "pygments_lexer": "ipython3",
   "version": "3.11.7"
  },
  "toc": {
   "base_numbering": 1,
   "nav_menu": {},
   "number_sections": true,
   "sideBar": true,
   "skip_h1_title": true,
   "title_cell": "Table of Contents",
   "title_sidebar": "Contents",
   "toc_cell": false,
   "toc_position": {},
   "toc_section_display": true,
   "toc_window_display": true
  }
 },
 "nbformat": 4,
 "nbformat_minor": 4
}
